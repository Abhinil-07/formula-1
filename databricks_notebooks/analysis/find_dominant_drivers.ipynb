{
 "cells": [
  {
   "cell_type": "code",
   "execution_count": 0,
   "metadata": {
    "application/vnd.databricks.v1+cell": {
     "cellMetadata": {
      "byteLimit": 2048000,
      "rowLimit": 10000
     },
     "inputWidgets": {},
     "nuid": "c31657ce-1c9f-4c36-89a2-d91fd6528d08",
     "showTitle": false,
     "tableResultSettingsMap": {},
     "title": ""
    }
   },
   "outputs": [],
   "source": [
    "SELECT driver_name,\n",
    "       COUNT(1) AS total_races,\n",
    "       SUM(calculated_points) AS total_points,\n",
    "       AVG(calculated_points) AS avg_points\n",
    "  FROM f1_presentation.calculated_race_results\n",
    "GROUP BY driver_name\n",
    "HAVING COUNT(1) >= 50\n",
    "ORDER BY avg_points DESC"
   ]
  },
  {
   "cell_type": "code",
   "execution_count": 0,
   "metadata": {
    "application/vnd.databricks.v1+cell": {
     "cellMetadata": {
      "byteLimit": 2048000,
      "rowLimit": 10000
     },
     "inputWidgets": {},
     "nuid": "a0e7cf74-df0e-4836-ba6d-3b5dbda91ac3",
     "showTitle": false,
     "tableResultSettingsMap": {},
     "title": ""
    }
   },
   "outputs": [],
   "source": [
    "SELECT driver_name,\n",
    "       COUNT(1) AS total_races,\n",
    "       SUM(calculated_points) AS total_points,\n",
    "       AVG(calculated_points) AS avg_points\n",
    "  FROM f1_presentation.calculated_race_results\n",
    " WHERE race_year BETWEEN 2011 AND 2020\n",
    "GROUP BY driver_name\n",
    "HAVING COUNT(1) >= 50\n",
    "ORDER BY avg_points DESC"
   ]
  },
  {
   "cell_type": "code",
   "execution_count": 0,
   "metadata": {
    "application/vnd.databricks.v1+cell": {
     "cellMetadata": {
      "byteLimit": 2048000,
      "rowLimit": 10000
     },
     "inputWidgets": {},
     "nuid": "c741be6f-6bde-438c-85f6-9e85d2d5df54",
     "showTitle": false,
     "tableResultSettingsMap": {},
     "title": ""
    }
   },
   "outputs": [],
   "source": [
    "SELECT driver_name,\n",
    "       COUNT(1) AS total_races,\n",
    "       SUM(calculated_points) AS total_points,\n",
    "       AVG(calculated_points) AS avg_points\n",
    "  FROM f1_presentation.calculated_race_results\n",
    " WHERE race_year BETWEEN 2001 AND 2010\n",
    "GROUP BY driver_name\n",
    "HAVING COUNT(1) >= 50\n",
    "ORDER BY avg_points DESC"
   ]
  }
 ],
 "metadata": {
  "application/vnd.databricks.v1+notebook": {
   "computePreferences": null,
   "dashboards": [],
   "environmentMetadata": {
    "base_environment": "",
    "environment_version": "2"
   },
   "inputWidgetPreferences": null,
   "language": "sql",
   "notebookMetadata": {
    "pythonIndentUnit": 4
   },
   "notebookName": "find_dominant_drivers",
   "widgets": {}
  },
  "language_info": {
   "name": "sql"
  }
 },
 "nbformat": 4,
 "nbformat_minor": 0
}
